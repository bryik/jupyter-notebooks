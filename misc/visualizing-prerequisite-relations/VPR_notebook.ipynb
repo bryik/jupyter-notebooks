{
 "cells": [
  {
   "cell_type": "markdown",
   "metadata": {},
   "source": [
    "*In this article, I try to visualize the last four semesters in my degree as a directed graph with courses as nodes and prerequisite relations as edges. Will my plan work, or am I missing prerequisites? NetworkX and yEd are used for creating and displaying the graph.*\n",
    "\n",
    "<hr>"
   ]
  },
  {
   "cell_type": "markdown",
   "metadata": {},
   "source": [
    "# The problem\n",
    "\n",
    "I want to graduate in at least two years which means I need to pass a certain set of courses in a specific sequence. \n",
    "\n",
    "There are a lot of complications:\n",
    "\n",
    "- Not all courses are available every semester; certain courses can only be taken in the Fall term, others only in the Winter.\n",
    "\n",
    "- Many courses have prerequisites, often the prerequisites have prerequisites.\n",
    "\n",
    "- There are electives and a large library of possibilities.\n",
    "\n"
   ]
  },
  {
   "cell_type": "markdown",
   "metadata": {},
   "source": [
    "# Definitions\n",
    "\n",
    "According to uOttawa's [sheet on course enrolment terminology](http://www.uottawa.ca/undergraduate-course-registration/enrolment-forms-and-tools/understanding-course-schedules), the academic year is divided into three \"terms\":\n",
    "\n",
    "1. Fall (September to December)\n",
    "2. Winter (January to April)\n",
    "3. Spring-Summer (May to August)\n",
    "\n",
    "Courses are encoded in the following way:\n",
    "\n",
    ">Each course is designated by a seven-character code made up of three letters and four digits. The three letters stand for the subject. For example, CRM stands for criminology. The first digit is for the year of study (1000-level courses — those that start with 1 — are first year courses)..."
   ]
  },
  {
   "cell_type": "markdown",
   "metadata": {},
   "source": [
    "# Collecting the data\n",
    "\n",
    "The University of Ottawa does not make this easy. Course information is spread out over at least three separate databases:\n",
    "\n",
    "- The [course catalogue](http://catalogue.uottawa.ca/en/courses/). Contains most of the information I want, except for scheduling and availability. No search engine, so I had to look up a [course code page](http://catalogue.uottawa.ca/en/courses/csi/) and `CTRL-F`.\n",
    "\n",
    "- The [course timetable](https://web30.uottawa.ca/v3/SITS/timetable/Search.aspx). Has a search engine (a clumsy one). Provides schedules for courses in the next two terms. There is no way to know if a course will be held in a term later than the next two, so I have to hope that the pattern doesn't change much (i.e. since SEG 2105 is only held in the Fall term this year, it will only be held in the Fall next year). **Does not provide any prerequisite information!** I feel bad for any one who tries to use this as their sole information source...\n",
    "\n",
    "- The enrollment system. I can't link to this as it can only be accessed through \"uoZone\" (uOttawa's internal system). As far as I know, this is the only place where course availability and number of available seats are given. This software is atrocious. Instead of following the universally agreed-upon course code system, courses are assigned a seemingly random sequence of numbers and letters. I have 1000 other complaints, but I'll spare you the rant.\n",
    "\n",
    "After hours pouring over the [program requirements](http://catalogue.uottawa.ca/en/undergrad/major-computer-science/#programrequirementstext) and the [course catalogue](http://catalogue.uottawa.ca/en/courses/), I had a list of candidates and a possible schedule. But will it work? Have I missed a prerequisite or planned to take a course in the Fall that is only available in the Winter? This stuff is too complicated...I need a visual."
   ]
  },
  {
   "cell_type": "markdown",
   "metadata": {},
   "source": [
    "# Importing the data"
   ]
  },
  {
   "cell_type": "markdown",
   "metadata": {},
   "source": [
    "I created a spreadsheet of all the courses I'm planning on taking and furnished it with various information about them. The most confusing aspect is the prerequisite chain, so I'd like to visualize this as a directed graph with courses as nodes and prerequisite links as edges."
   ]
  },
  {
   "cell_type": "code",
   "execution_count": 1,
   "metadata": {
    "collapsed": true
   },
   "outputs": [],
   "source": [
    "import pandas as pd"
   ]
  },
  {
   "cell_type": "code",
   "execution_count": 89,
   "metadata": {
    "scrolled": true
   },
   "outputs": [
    {
     "data": {
      "text/html": [
       "<div>\n",
       "<style>\n",
       "    .dataframe thead tr:only-child th {\n",
       "        text-align: right;\n",
       "    }\n",
       "\n",
       "    .dataframe thead th {\n",
       "        text-align: left;\n",
       "    }\n",
       "\n",
       "    .dataframe tbody tr th {\n",
       "        vertical-align: top;\n",
       "    }\n",
       "</style>\n",
       "<table border=\"1\" class=\"dataframe\">\n",
       "  <thead>\n",
       "    <tr style=\"text-align: right;\">\n",
       "      <th></th>\n",
       "      <th>subject_code</th>\n",
       "      <th>digit_code</th>\n",
       "      <th>course_code</th>\n",
       "      <th>course_name</th>\n",
       "      <th>prerequisites</th>\n",
       "      <th>expected_term</th>\n",
       "      <th>expected_year</th>\n",
       "      <th>required</th>\n",
       "      <th>term_availability</th>\n",
       "    </tr>\n",
       "  </thead>\n",
       "  <tbody>\n",
       "    <tr>\n",
       "      <th>0</th>\n",
       "      <td>CSI</td>\n",
       "      <td>2110</td>\n",
       "      <td>CSI2110</td>\n",
       "      <td>Data Structures and Algorithms</td>\n",
       "      <td>ITI 1121, MAT 1348</td>\n",
       "      <td>F</td>\n",
       "      <td>2017</td>\n",
       "      <td>True</td>\n",
       "      <td>F, W</td>\n",
       "    </tr>\n",
       "    <tr>\n",
       "      <th>1</th>\n",
       "      <td>SEG</td>\n",
       "      <td>2105</td>\n",
       "      <td>SEG2105</td>\n",
       "      <td>Introduction to Software Engineering</td>\n",
       "      <td>ITI 1121</td>\n",
       "      <td>F</td>\n",
       "      <td>2017</td>\n",
       "      <td>True</td>\n",
       "      <td>F</td>\n",
       "    </tr>\n",
       "    <tr>\n",
       "      <th>2</th>\n",
       "      <td>PSY</td>\n",
       "      <td>4130</td>\n",
       "      <td>PSY4130</td>\n",
       "      <td>History and Systems of Psychology</td>\n",
       "      <td>NaN</td>\n",
       "      <td>F</td>\n",
       "      <td>2017</td>\n",
       "      <td>False</td>\n",
       "      <td>F, W</td>\n",
       "    </tr>\n",
       "    <tr>\n",
       "      <th>3</th>\n",
       "      <td>MAT</td>\n",
       "      <td>1320</td>\n",
       "      <td>MAT1320</td>\n",
       "      <td>Calculus I</td>\n",
       "      <td>NaN</td>\n",
       "      <td>F</td>\n",
       "      <td>2017</td>\n",
       "      <td>False</td>\n",
       "      <td>S, F, W</td>\n",
       "    </tr>\n",
       "    <tr>\n",
       "      <th>4</th>\n",
       "      <td>CSI</td>\n",
       "      <td>2101</td>\n",
       "      <td>CSI2101</td>\n",
       "      <td>Discrete Structures</td>\n",
       "      <td>MAT 1348</td>\n",
       "      <td>W</td>\n",
       "      <td>2018</td>\n",
       "      <td>True</td>\n",
       "      <td>W</td>\n",
       "    </tr>\n",
       "    <tr>\n",
       "      <th>5</th>\n",
       "      <td>CSI</td>\n",
       "      <td>2911</td>\n",
       "      <td>CSI2911</td>\n",
       "      <td>Professional Practice in Computing</td>\n",
       "      <td>NaN</td>\n",
       "      <td>W</td>\n",
       "      <td>2018</td>\n",
       "      <td>True</td>\n",
       "      <td>W</td>\n",
       "    </tr>\n",
       "    <tr>\n",
       "      <th>6</th>\n",
       "      <td>CSI</td>\n",
       "      <td>2132</td>\n",
       "      <td>CSI2132</td>\n",
       "      <td>Databases I</td>\n",
       "      <td>CSI 2110</td>\n",
       "      <td>W</td>\n",
       "      <td>2018</td>\n",
       "      <td>True</td>\n",
       "      <td>W</td>\n",
       "    </tr>\n",
       "    <tr>\n",
       "      <th>7</th>\n",
       "      <td>MAT</td>\n",
       "      <td>1322</td>\n",
       "      <td>MAT1322</td>\n",
       "      <td>Calculus II</td>\n",
       "      <td>MAT 1320</td>\n",
       "      <td>W</td>\n",
       "      <td>2018</td>\n",
       "      <td>False</td>\n",
       "      <td>S, F, W</td>\n",
       "    </tr>\n",
       "    <tr>\n",
       "      <th>8</th>\n",
       "      <td>CSI</td>\n",
       "      <td>2120</td>\n",
       "      <td>CSI2120</td>\n",
       "      <td>Programming Paradigms</td>\n",
       "      <td>CSI 2110</td>\n",
       "      <td>W</td>\n",
       "      <td>2018</td>\n",
       "      <td>True</td>\n",
       "      <td>W</td>\n",
       "    </tr>\n",
       "    <tr>\n",
       "      <th>9</th>\n",
       "      <td>CSI</td>\n",
       "      <td>3105</td>\n",
       "      <td>CSI3105</td>\n",
       "      <td>Design and Analysis of Algorithms</td>\n",
       "      <td>CSI 2110, CSI 2101</td>\n",
       "      <td>F</td>\n",
       "      <td>2018</td>\n",
       "      <td>True</td>\n",
       "      <td>F</td>\n",
       "    </tr>\n",
       "    <tr>\n",
       "      <th>10</th>\n",
       "      <td>CSI</td>\n",
       "      <td>3120</td>\n",
       "      <td>CSI3120</td>\n",
       "      <td>Programming Language Concepts</td>\n",
       "      <td>CSI 2101, CSI 2120</td>\n",
       "      <td>F</td>\n",
       "      <td>2018</td>\n",
       "      <td>False</td>\n",
       "      <td>F</td>\n",
       "    </tr>\n",
       "    <tr>\n",
       "      <th>11</th>\n",
       "      <td>SEG</td>\n",
       "      <td>3125</td>\n",
       "      <td>SEG3125</td>\n",
       "      <td>Analysis and Design of User Interfaces</td>\n",
       "      <td>SEG 2105</td>\n",
       "      <td>W</td>\n",
       "      <td>2019</td>\n",
       "      <td>False</td>\n",
       "      <td>S, W</td>\n",
       "    </tr>\n",
       "    <tr>\n",
       "      <th>12</th>\n",
       "      <td>CSI</td>\n",
       "      <td>4130</td>\n",
       "      <td>CSI4130</td>\n",
       "      <td>Computer Graphics</td>\n",
       "      <td>CSI 3105, MAT 1341</td>\n",
       "      <td>W</td>\n",
       "      <td>2019</td>\n",
       "      <td>False</td>\n",
       "      <td>W</td>\n",
       "    </tr>\n",
       "    <tr>\n",
       "      <th>13</th>\n",
       "      <td>CSI</td>\n",
       "      <td>3140</td>\n",
       "      <td>CSI3140</td>\n",
       "      <td>WWW Structures, Techniques and Standards</td>\n",
       "      <td>CSI 2110, CSI 2132</td>\n",
       "      <td>W</td>\n",
       "      <td>2019</td>\n",
       "      <td>False</td>\n",
       "      <td>S, W</td>\n",
       "    </tr>\n",
       "    <tr>\n",
       "      <th>14</th>\n",
       "      <td>CSI</td>\n",
       "      <td>3130</td>\n",
       "      <td>CSI3130</td>\n",
       "      <td>Databases II</td>\n",
       "      <td>CSI 2132</td>\n",
       "      <td>F</td>\n",
       "      <td>2018</td>\n",
       "      <td>False</td>\n",
       "      <td>F</td>\n",
       "    </tr>\n",
       "  </tbody>\n",
       "</table>\n",
       "</div>"
      ],
      "text/plain": [
       "   subject_code  digit_code course_code  \\\n",
       "0           CSI        2110     CSI2110   \n",
       "1           SEG        2105     SEG2105   \n",
       "2           PSY        4130     PSY4130   \n",
       "3           MAT        1320     MAT1320   \n",
       "4           CSI        2101     CSI2101   \n",
       "5           CSI        2911     CSI2911   \n",
       "6           CSI        2132     CSI2132   \n",
       "7           MAT        1322     MAT1322   \n",
       "8           CSI        2120     CSI2120   \n",
       "9           CSI        3105     CSI3105   \n",
       "10          CSI        3120     CSI3120   \n",
       "11          SEG        3125     SEG3125   \n",
       "12          CSI        4130     CSI4130   \n",
       "13          CSI        3140     CSI3140   \n",
       "14          CSI        3130     CSI3130   \n",
       "\n",
       "                                 course_name        prerequisites  \\\n",
       "0             Data Structures and Algorithms   ITI 1121, MAT 1348   \n",
       "1       Introduction to Software Engineering             ITI 1121   \n",
       "2          History and Systems of Psychology                  NaN   \n",
       "3                                 Calculus I                  NaN   \n",
       "4                        Discrete Structures             MAT 1348   \n",
       "5         Professional Practice in Computing                  NaN   \n",
       "6                                Databases I             CSI 2110   \n",
       "7                                Calculus II             MAT 1320   \n",
       "8                      Programming Paradigms             CSI 2110   \n",
       "9         Design and Analysis of Algorithms   CSI 2110, CSI 2101    \n",
       "10             Programming Language Concepts   CSI 2101, CSI 2120   \n",
       "11    Analysis and Design of User Interfaces             SEG 2105   \n",
       "12                         Computer Graphics   CSI 3105, MAT 1341   \n",
       "13  WWW Structures, Techniques and Standards   CSI 2110, CSI 2132   \n",
       "14                              Databases II             CSI 2132   \n",
       "\n",
       "   expected_term  expected_year  required term_availability  \n",
       "0              F           2017      True              F, W  \n",
       "1              F           2017      True                 F  \n",
       "2              F           2017     False              F, W  \n",
       "3              F           2017     False           S, F, W  \n",
       "4              W           2018      True                 W  \n",
       "5              W           2018      True                 W  \n",
       "6              W           2018      True                 W  \n",
       "7              W           2018     False           S, F, W  \n",
       "8              W           2018      True                 W  \n",
       "9              F           2018      True                 F  \n",
       "10             F           2018     False                 F  \n",
       "11             W           2019     False              S, W  \n",
       "12             W           2019     False                 W  \n",
       "13             W           2019     False              S, W  \n",
       "14             F           2018     False                 F  "
      ]
     },
     "execution_count": 89,
     "metadata": {},
     "output_type": "execute_result"
    }
   ],
   "source": [
    "df = pd.read_csv('course_schedule.csv')\n",
    "df"
   ]
  },
  {
   "cell_type": "markdown",
   "metadata": {},
   "source": [
    "# Create list of nodes\n",
    "\n",
    "Each course_code will be a node in the directed graph."
   ]
  },
  {
   "cell_type": "code",
   "execution_count": 90,
   "metadata": {},
   "outputs": [
    {
     "data": {
      "text/plain": [
       "Index(['subject_code', 'digit_code', 'course_code', 'course_name',\n",
       "       'prerequisites', 'expected_term', 'expected_year', 'required',\n",
       "       'term_availability'],\n",
       "      dtype='object')"
      ]
     },
     "execution_count": 90,
     "metadata": {},
     "output_type": "execute_result"
    }
   ],
   "source": [
    "df.columns"
   ]
  },
  {
   "cell_type": "code",
   "execution_count": 91,
   "metadata": {},
   "outputs": [
    {
     "data": {
      "text/plain": [
       "0     CSI2110\n",
       "1     SEG2105\n",
       "2     PSY4130\n",
       "3     MAT1320\n",
       "4     CSI2101\n",
       "5     CSI2911\n",
       "6     CSI2132\n",
       "7     MAT1322\n",
       "8     CSI2120\n",
       "9     CSI3105\n",
       "10    CSI3120\n",
       "11    SEG3125\n",
       "12    CSI4130\n",
       "13    CSI3140\n",
       "14    CSI3130\n",
       "Name: course_code, dtype: object"
      ]
     },
     "execution_count": 91,
     "metadata": {},
     "output_type": "execute_result"
    }
   ],
   "source": [
    "courses = df['course_code']\n",
    "courses"
   ]
  },
  {
   "cell_type": "markdown",
   "metadata": {},
   "source": [
    "# Create list of edges\n",
    "\n",
    "Nodes are linked by prerequisite relations. For example, MAT1320 -> MAT1322 (because taking Calculus II requires having already passed Calculus I)."
   ]
  },
  {
   "cell_type": "code",
   "execution_count": 92,
   "metadata": {},
   "outputs": [
    {
     "data": {
      "text/plain": [
       "0      ITI 1121, MAT 1348\n",
       "1                ITI 1121\n",
       "2                     NaN\n",
       "3                     NaN\n",
       "4                MAT 1348\n",
       "5                     NaN\n",
       "6                CSI 2110\n",
       "7                MAT 1320\n",
       "8                CSI 2110\n",
       "9     CSI 2110, CSI 2101 \n",
       "10     CSI 2101, CSI 2120\n",
       "11               SEG 2105\n",
       "12     CSI 3105, MAT 1341\n",
       "13     CSI 2110, CSI 2132\n",
       "14               CSI 2132\n",
       "Name: prerequisites, dtype: object"
      ]
     },
     "execution_count": 92,
     "metadata": {},
     "output_type": "execute_result"
    }
   ],
   "source": [
    "prerequisites = df['prerequisites']\n",
    "prerequisites"
   ]
  },
  {
   "cell_type": "markdown",
   "metadata": {},
   "source": [
    "## Weird Unicode thing\n",
    "\n",
    "I got the prerequisites by copy/pasting from the course catalogue, but some of them have extra characters."
   ]
  },
  {
   "cell_type": "code",
   "execution_count": 121,
   "metadata": {},
   "outputs": [
    {
     "data": {
      "text/plain": [
       "\"'\\\\xa0ITI\\\\xa01121,\\\\xa0MAT\\\\xa01348'\""
      ]
     },
     "execution_count": 121,
     "metadata": {},
     "output_type": "execute_result"
    }
   ],
   "source": [
    "# Copy and pasted straight from my spreadsheet\n",
    "weird_string = \" ITI 1121, MAT 1348\"\n",
    "repr(weird_string)"
   ]
  },
  {
   "cell_type": "markdown",
   "metadata": {},
   "source": [
    "These characters are invisible when printed:"
   ]
  },
  {
   "cell_type": "code",
   "execution_count": 122,
   "metadata": {},
   "outputs": [
    {
     "name": "stdout",
     "output_type": "stream",
     "text": [
      " ITI 1121, MAT 1348\n"
     ]
    }
   ],
   "source": [
    "print(weird_string)"
   ]
  },
  {
   "cell_type": "markdown",
   "metadata": {},
   "source": [
    "According to [samwize on StackOverflow](https://stackoverflow.com/a/11566398/6591491), `\\xa0` is \"actually non-breaking space in Latin1 (ISO 8859-1), also chr(160)\". I don't really understand what that means, but I'm guessing `\\xa0` is some kind of substitute for a space.\n",
    "\n",
    "In any case, keeping these characters made for ugly output so I chose to remove them. StackOverflow suggests [`unicodedata.normalize()`](https://docs.python.org/2/library/unicodedata.html#unicodedata.normalize). The documentation is a bit vague on what the different \"forms\" mean (\"NFC\", \"NFKC\", \"NFD\", and \"NFKD\") and I don't feel like researching this right now so...TRIAL AND ERROR IT IS!"
   ]
  },
  {
   "cell_type": "code",
   "execution_count": 124,
   "metadata": {
    "collapsed": true
   },
   "outputs": [],
   "source": [
    "import unicodedata"
   ]
  },
  {
   "cell_type": "code",
   "execution_count": 128,
   "metadata": {},
   "outputs": [
    {
     "name": "stdout",
     "output_type": "stream",
     "text": [
      "NFC: '\\xa0ITI\\xa01121,\\xa0MAT\\xa01348'\n",
      "NFKC: ' ITI 1121, MAT 1348'\n",
      "NFD: '\\xa0ITI\\xa01121,\\xa0MAT\\xa01348'\n",
      "NFKD: ' ITI 1121, MAT 1348'\n"
     ]
    }
   ],
   "source": [
    "unicode_forms = [\"NFC\", \"NFKC\", \"NFD\", \"NFKD\"]\n",
    "\n",
    "for form in unicode_forms:\n",
    "    rep = repr(unicodedata.normalize(form, weird_string))\n",
    "    print(f\"{form}: {rep}\")"
   ]
  },
  {
   "cell_type": "markdown",
   "metadata": {},
   "source": [
    "NFKC and NFKD look good. I'll pick the former for no good reason."
   ]
  },
  {
   "cell_type": "code",
   "execution_count": 129,
   "metadata": {
    "collapsed": true
   },
   "outputs": [],
   "source": [
    "def course_formatter2(course):\n",
    "    '''(str) -> str\n",
    "    Takes a course code and removes unicode (\\xa0) character as well as commas\n",
    "    and spaces.'''\n",
    "    return unicodedata.normalize(\"NFKC\", course).replace(',', '').replace(' ', '')"
   ]
  },
  {
   "cell_type": "markdown",
   "metadata": {},
   "source": [
    "Why `course_formatter2()`? Because I used `course_formatter()` before looking into the problem more closely, it worked OK."
   ]
  },
  {
   "cell_type": "code",
   "execution_count": 132,
   "metadata": {
    "collapsed": true
   },
   "outputs": [],
   "source": [
    "def course_formatter(course):\n",
    "    '''(str) -> str\n",
    "    Takes a course code and removes unicode (\\xa0) character as well as commas\n",
    "    and spaces.'''\n",
    "    return course.replace(u'\\xa0', '').replace(',', '').replace(' ', '')"
   ]
  },
  {
   "cell_type": "code",
   "execution_count": 131,
   "metadata": {},
   "outputs": [
    {
     "data": {
      "text/plain": [
       "[[('CSI2110', 'ITI1121'), ('CSI2110', 'MAT1348')],\n",
       " [('SEG2105', 'ITI1121')],\n",
       " [('CSI2101', 'MAT1348')],\n",
       " [('CSI2132', 'CSI2110')],\n",
       " [('MAT1322', 'MAT1320')],\n",
       " [('CSI2120', 'CSI2110')],\n",
       " [('CSI3105', 'CSI2110'), ('CSI3105', 'CSI2101')],\n",
       " [('CSI3120', 'CSI2101'), ('CSI3120', 'CSI2120')],\n",
       " [('SEG3125', 'SEG2105')],\n",
       " [('CSI4130', 'CSI3105'), ('CSI4130', 'MAT1341')],\n",
       " [('CSI3140', 'CSI2110'), ('CSI3140', 'CSI2132')],\n",
       " [('CSI3130', 'CSI2132')]]"
      ]
     },
     "execution_count": 131,
     "metadata": {},
     "output_type": "execute_result"
    }
   ],
   "source": [
    "# list of tuples\n",
    "edges = []\n",
    "\n",
    "for i, relation in enumerate(prerequisites):\n",
    "    # Ignore courses with no prerequisites\n",
    "    if not pd.isnull(relation):\n",
    "        rs = relation.split(',')\n",
    "        tmp = []\n",
    "        for r in rs:\n",
    "            tmp.append((courses[i], course_formatter2(r)))\n",
    "        edges.append(tmp)\n",
    "\n",
    "edges"
   ]
  },
  {
   "cell_type": "markdown",
   "metadata": {},
   "source": [
    "This is a bit confusing because it looks like CSI2110 -> ITI1121 (when it is the other way around)."
   ]
  },
  {
   "cell_type": "code",
   "execution_count": 133,
   "metadata": {},
   "outputs": [
    {
     "data": {
      "text/plain": [
       "[[('ITI1121', 'CSI2110'), ('MAT1348', 'CSI2110')],\n",
       " [('ITI1121', 'SEG2105')],\n",
       " [('MAT1348', 'CSI2101')],\n",
       " [('CSI2110', 'CSI2132')],\n",
       " [('MAT1320', 'MAT1322')],\n",
       " [('CSI2110', 'CSI2120')],\n",
       " [('CSI2110', 'CSI3105'), ('CSI2101', 'CSI3105')],\n",
       " [('CSI2101', 'CSI3120'), ('CSI2120', 'CSI3120')],\n",
       " [('SEG2105', 'SEG3125')],\n",
       " [('CSI3105', 'CSI4130'), ('MAT1341', 'CSI4130')],\n",
       " [('CSI2110', 'CSI3140'), ('CSI2132', 'CSI3140')],\n",
       " [('CSI2132', 'CSI3130')]]"
      ]
     },
     "execution_count": 133,
     "metadata": {},
     "output_type": "execute_result"
    }
   ],
   "source": [
    "# The same, but swapping the order\n",
    "edges = []\n",
    "\n",
    "for i, relation in enumerate(prerequisites):\n",
    "    # Ignore courses with no prerequisites\n",
    "    if not pd.isnull(relation):\n",
    "        rs = relation.split(',')\n",
    "        tmp = []\n",
    "        for r in rs:\n",
    "            tmp.append((course_formatter(r), courses[i]))\n",
    "        edges.append(tmp)\n",
    "\n",
    "edges"
   ]
  },
  {
   "cell_type": "markdown",
   "metadata": {},
   "source": [
    "# Create DiGraph\n",
    "\n",
    "With the [NetworkX library](https://networkx.github.io/)."
   ]
  },
  {
   "cell_type": "code",
   "execution_count": 134,
   "metadata": {
    "collapsed": true
   },
   "outputs": [],
   "source": [
    "import networkx as nx"
   ]
  },
  {
   "cell_type": "code",
   "execution_count": 135,
   "metadata": {
    "collapsed": true
   },
   "outputs": [],
   "source": [
    "G = nx.DiGraph()"
   ]
  },
  {
   "cell_type": "markdown",
   "metadata": {},
   "source": [
    "## Adding nodes and edges"
   ]
  },
  {
   "cell_type": "code",
   "execution_count": 136,
   "metadata": {
    "collapsed": true
   },
   "outputs": [],
   "source": [
    "G.add_nodes_from(courses)"
   ]
  },
  {
   "cell_type": "code",
   "execution_count": 137,
   "metadata": {
    "collapsed": true
   },
   "outputs": [],
   "source": [
    "for edge in edges:\n",
    "    G.add_edges_from(edge)"
   ]
  },
  {
   "cell_type": "markdown",
   "metadata": {},
   "source": [
    "# Drawing the graph?\n",
    "\n",
    "> NetworkX provides basic functionality for visualizing graphs, but its main goal is to enable graph analysis rather than perform graph visualization. In the future, graph visualization functionality may be removed from NetworkX or only available as an add-on package. - [Documentation for NetworkX](https://networkx.readthedocs.io/en/stable/reference/drawing.html)\n",
    "\n",
    "I'm going to try it anyway."
   ]
  },
  {
   "cell_type": "code",
   "execution_count": 100,
   "metadata": {
    "collapsed": true
   },
   "outputs": [],
   "source": [
    "import matplotlib.pyplot as pl"
   ]
  },
  {
   "cell_type": "code",
   "execution_count": 101,
   "metadata": {
    "collapsed": true
   },
   "outputs": [],
   "source": [
    "%matplotlib inline"
   ]
  },
  {
   "cell_type": "code",
   "execution_count": 110,
   "metadata": {
    "collapsed": true
   },
   "outputs": [],
   "source": [
    "# Hide deprecation warnings\n",
    "import warnings\n",
    "warnings.filterwarnings('ignore')"
   ]
  },
  {
   "cell_type": "code",
   "execution_count": 111,
   "metadata": {},
   "outputs": [
    {
     "data": {
      "image/png": "[encoded data removed]",
      "text/plain": [
       "<matplotlib.figure.Figure at 0x19934c8f358>"
      ]
     },
     "metadata": {},
     "output_type": "display_data"
    }
   ],
   "source": [
    "nx.draw(G)"
   ]
  },
  {
   "cell_type": "code",
   "execution_count": 112,
   "metadata": {},
   "outputs": [
    {
     "data": {
      "image/png": "[encoded data removed]",
      "text/plain": [
       "<matplotlib.figure.Figure at 0x1993614a668>"
      ]
     },
     "metadata": {},
     "output_type": "display_data"
    }
   ],
   "source": [
    "nx.draw_circular(G)"
   ]
  },
  {
   "cell_type": "code",
   "execution_count": 104,
   "metadata": {},
   "outputs": [
    {
     "data": {
      "image/png": "[encoded data removed]",
      "text/plain": [
       "<matplotlib.figure.Figure at 0x19934ee5048>"
      ]
     },
     "metadata": {},
     "output_type": "display_data"
    }
   ],
   "source": [
    "nx.draw_networkx(G)"
   ]
  },
  {
   "cell_type": "markdown",
   "metadata": {},
   "source": [
    "Kinda cool, but I think yEd might be better for producing a finished graphic."
   ]
  },
  {
   "cell_type": "markdown",
   "metadata": {},
   "source": [
    "# Export to GraphML\n",
    "\n",
    "NetworkX can export to a lot of different formats, but I chose GraphML because yEd also supports it."
   ]
  },
  {
   "cell_type": "code",
   "execution_count": 105,
   "metadata": {
    "collapsed": true
   },
   "outputs": [],
   "source": [
    "nx.write_graphml(G, \"course_prerequisites.graphml\")"
   ]
  },
  {
   "cell_type": "markdown",
   "metadata": {},
   "source": [
    "This exported the nodes and edges, but the labels are missing! Google led me to [this blog](https://thirld.com/blog/2012/01/31/making-yed-import-labels-from-graphml-files/) which had some good advice."
   ]
  },
  {
   "cell_type": "code",
   "execution_count": 116,
   "metadata": {
    "collapsed": true
   },
   "outputs": [],
   "source": [
    "# Give nodes labels\n",
    "for node in G.nodes():\n",
    "    G.node[node]['label'] = node"
   ]
  },
  {
   "cell_type": "code",
   "execution_count": 107,
   "metadata": {
    "collapsed": true
   },
   "outputs": [],
   "source": [
    "# Export again\n",
    "nx.write_graphml(G, \"course_prerequisites.graphml\")"
   ]
  },
  {
   "cell_type": "markdown",
   "metadata": {},
   "source": [
    "The were exported, but yEd still required some tweaking to get them to display. The blog post I linked to earlier explains it (with screenshots!). Here is the critical part:\n",
    "\n",
    ">\"We need to map the \"Label\" property imported from the GraphML file onto the internal property that yEd uses for labels. To do this, click Edit, Properties Mapper. Click the little plus sign under Configurations, and then 'New Configuration for Nodes.' Now click the plus sign next to 'Mappings'. If you're lucky, yEd should figure out what you're trying to do, and automatically select the right mapping.\" - [Berzan](https://thirld.com/blog/2012/01/31/making-yed-import-labels-from-graphml-files/)"
   ]
  },
  {
   "cell_type": "markdown",
   "metadata": {},
   "source": [
    "# Finished graph\n",
    "\n",
    "Notes:\n",
    "\n",
    "- I used yEd's \"hierarchy\" layout.\n",
    "\n",
    "- Courses I've already taken are color coded green.\n",
    "\n",
    "- There are four groups, representing the courses I intend to take for a given term.\n",
    "\n",
    "- A few arrows were repositioned (by hand) to make the group labels easier to read.\n"
   ]
  },
  {
   "attachments": {},
   "cell_type": "markdown",
   "metadata": {},
   "source": [
    "<img src=\"course_prerequisites.png\">"
   ]
  },
  {
   "cell_type": "markdown",
   "metadata": {},
   "source": [
    "## Interpretation\n",
    "\n",
    "Taking the courses in this order should ensure prerequisites are always satisfied. \n",
    "\n",
    "There are a few other interesting takeaways:\n",
    "\n",
    "- CSI 2110 is a prerequisite for four courses. Failing to acquire it in the Fall of 2017 will severely screw up my schedule.\n",
    "\n",
    "- PSY 4130 and CSI 2911 are not prerequisites for any course, so they can be acquired at any time.\n",
    "\n",
    "- MAT 1320 and MAT 1322 are a closed system. I'm a little surprised MAT 1322 is not a prerequisite for anything.\n",
    "\n",
    "Also, I should think about how to best distribute my remaining courses. There is a chance of graduating in three terms instead of four if I can find a replacement for CSI4130 and take more courses in Fall 2018 (or over the summer). Reducing to three semesters may require taking less desirable courses but it would save me a lot of time and money. \n",
    "\n",
    "If I do end up taking four semesters, I could shift CSI 2911 to a later semester to even the course load. Or I could keep it as it is and plan to work part-time. Scholarships and government grants usually require students to be \"full-time\", so I can't drop below three courses (the minimum for \"full-time\" status at uOttawa).\n",
    "\n",
    "## Weaknesses\n",
    "\n",
    "The biggest weakness is the lack of definite course/semester availability after Winter 2018. I am just guessing that these courses will be available during these semesters. There are other issues, but this is the main one.\n",
    "\n",
    "Data collection was disappointingly manual. The University of Ottawa simply does not provide good access to course information. Scraping is an option, but a frustrating one; the course timetable server is so old that Python's Request library cannot communicate with it [1] and uOttawa's HTML is not easy to parse. Manual collection is feasible, but doesn't scale and is obviously not convenient."
   ]
  },
  {
   "cell_type": "markdown",
   "metadata": {},
   "source": [
    "<hr>\n",
    "\n",
    "## Footnotes\n",
    "\n",
    "[1] - IRC, the issue I encountered was SSL handshake failure. The newest cipher protocol supported by the server had already been deprecated by Requests. While it was possible to use an older version of Requests, the connection was unreliable. A [similar issue](https://github.com/requests/requests/issues/3833) (similar problem, different website)."
   ]
  }
 ],
 "metadata": {
  "kernelspec": {
   "display_name": "Python [conda root]",
   "language": "python",
   "name": "conda-root-py"
  },
  "language_info": {
   "codemirror_mode": {
    "name": "ipython",
    "version": 3
   },
   "file_extension": ".py",
   "mimetype": "text/x-python",
   "name": "python",
   "nbconvert_exporter": "python",
   "pygments_lexer": "ipython3",
   "version": "3.6.2"
  }
 },
 "nbformat": 4,
 "nbformat_minor": 2
}
