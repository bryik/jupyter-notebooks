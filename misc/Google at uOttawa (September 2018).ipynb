{
 "cells": [
  {
   "cell_type": "markdown",
   "metadata": {},
   "source": [
    "*My notes from a Google coding event held at uOttawa on Sep, 25, 2018*\n",
    "\n",
    "<hr>"
   ]
  },
  {
   "cell_type": "markdown",
   "metadata": {},
   "source": [
    "The event started with some resume tips and then moved into coding problems. We were given a problem and 5 minutes or so to solve it. Some students wrote their solutions on blackboards and explained them to the room. The Googlers running the event asked questions (\"what happens if an array with duplicate elements is passed in?\") and provided advice.\n",
    "\n",
    "It was fun and gave me an idea what a technical interview at Google is like."
   ]
  },
  {
   "cell_type": "markdown",
   "metadata": {},
   "source": [
    "# Problem 1\n",
    "\n",
    "> Write a method that when given an array of integers returns the second largest value."
   ]
  },
  {
   "cell_type": "markdown",
   "metadata": {},
   "source": [
    "## The Easy Way"
   ]
  },
  {
   "cell_type": "code",
   "execution_count": 1,
   "metadata": {},
   "outputs": [],
   "source": [
    "def secondLargest(arr):\n",
    "    arr.sort()\n",
    "    return arr[-2]"
   ]
  },
  {
   "cell_type": "code",
   "execution_count": 3,
   "metadata": {},
   "outputs": [],
   "source": [
    "test1 = [3, 1, 100, 99]"
   ]
  },
  {
   "cell_type": "code",
   "execution_count": 4,
   "metadata": {},
   "outputs": [
    {
     "data": {
      "text/plain": [
       "99"
      ]
     },
     "execution_count": 4,
     "metadata": {},
     "output_type": "execute_result"
    }
   ],
   "source": [
    "secondLargest(test1)"
   ]
  },
  {
   "cell_type": "markdown",
   "metadata": {},
   "source": [
    "However, this is $O(n\\log{n})$."
   ]
  },
  {
   "cell_type": "markdown",
   "metadata": {},
   "source": [
    "## The Faster Way?"
   ]
  },
  {
   "cell_type": "code",
   "execution_count": 5,
   "metadata": {},
   "outputs": [],
   "source": [
    "def secondLargest2(arr):\n",
    "    largest = 0\n",
    "    secondLargest = 0\n",
    "    \n",
    "    for el in arr:\n",
    "        if el > largest:\n",
    "            # Then we have a new largest number\n",
    "            largest = el\n",
    "        \n",
    "        if (el > secondLargest) and (el < largest):\n",
    "            # Then we have a new second largest number\n",
    "            secondLargest = el\n",
    "    \n",
    "    return secondLargest"
   ]
  },
  {
   "cell_type": "code",
   "execution_count": 6,
   "metadata": {},
   "outputs": [
    {
     "data": {
      "text/plain": [
       "99"
      ]
     },
     "execution_count": 6,
     "metadata": {},
     "output_type": "execute_result"
    }
   ],
   "source": [
    "secondLargest(test1)"
   ]
  },
  {
   "cell_type": "markdown",
   "metadata": {},
   "source": [
    "`secondLargest2()` only requires one loop and each loop only does constant time operations. Therefore, it is $O(n)$."
   ]
  },
  {
   "cell_type": "markdown",
   "metadata": {},
   "source": [
    "## With Selection Sort??\n",
    "\n",
    "A student came up with an interesting solution using a modified variant of Selection Sort. His strategy was to use Selection sort except move larger values to the front and stop early (as soon as the second largest was found). This approach is $O(K*N)$ , where  $K$  is the  $K^{th}$ largest element in the array. \n",
    "\n",
    "An interesting property is that this solution can be generalized to more than just the second largest value. \n",
    "\n",
    "An assumption was made that the second largest element can be the same as the largest element (e.g. the second largest value of `[3, 5, 4, 5]` is 5)."
   ]
  },
  {
   "cell_type": "markdown",
   "metadata": {},
   "source": [
    "# Comments\n",
    "\n",
    "- We should ask clarifying questions (what happens if there is a duplicated element)?\n",
    "\n",
    "- Don't start programming right away. Plan it out, use diagrams\n",
    "\n",
    "- Declare input and output types"
   ]
  },
  {
   "cell_type": "markdown",
   "metadata": {},
   "source": [
    "# Question 2\n",
    "\n",
    "> Write a method that when given an array of integers returns true if any of the values make a double decker. A value is considered a double decker if it appears 3 times with an alternating second value (a, b, a, b, a).\n"
   ]
  },
  {
   "cell_type": "markdown",
   "metadata": {},
   "source": [
    "[1, 2, 1, 2, 1] -> True"
   ]
  },
  {
   "cell_type": "markdown",
   "metadata": {},
   "source": [
    "## Rush Solution\n",
    "\n",
    "First attempt developed with help from Dan (the guy who sat beside me):"
   ]
  },
  {
   "cell_type": "code",
   "execution_count": 7,
   "metadata": {},
   "outputs": [],
   "source": [
    "def doubleDecker(arr):\n",
    "    if len(arr) < 5:\n",
    "        return False\n",
    "    \n",
    "    for i, el in enumerate(arr):\n",
    "        if (i + 4) > len(arr)-1:\n",
    "            return False\n",
    "        if (el == arr[i+2]) and (el == arr[i+4]) and (arr[i+3] != el) and (arr[i+1] != el):\n",
    "            return True"
   ]
  },
  {
   "cell_type": "code",
   "execution_count": 8,
   "metadata": {},
   "outputs": [
    {
     "data": {
      "text/plain": [
       "True"
      ]
     },
     "execution_count": 8,
     "metadata": {},
     "output_type": "execute_result"
    }
   ],
   "source": [
    "doubleDecker([1, 2, 1, 2, 1])"
   ]
  },
  {
   "cell_type": "markdown",
   "metadata": {},
   "source": [
    "Can $a$ and $b$ be the same value? I kind of doubt it, but the question doesn't say definitively that $a \\ne b$."
   ]
  },
  {
   "cell_type": "code",
   "execution_count": 9,
   "metadata": {},
   "outputs": [
    {
     "data": {
      "text/plain": [
       "False"
      ]
     },
     "execution_count": 9,
     "metadata": {},
     "output_type": "execute_result"
    }
   ],
   "source": [
    "doubleDecker([1, 2, 2, 2, 1, 2])"
   ]
  },
  {
   "cell_type": "markdown",
   "metadata": {},
   "source": [
    "## Second Attempt"
   ]
  },
  {
   "cell_type": "markdown",
   "metadata": {},
   "source": [
    "First I'm going to create a function that takes an array of at least 5 elements and returns `True` if it contains a double decker."
   ]
  },
  {
   "cell_type": "code",
   "execution_count": 42,
   "metadata": {},
   "outputs": [],
   "source": [
    "def ddHelper(arr):\n",
    "    # ddHelper only works with arrays of 5 element or less.\n",
    "    if len(arr) > 5:\n",
    "        raise ValueError('ddHelper only works with arrays of 5 elements or less!')\n",
    "    \n",
    "    # If the array contains less than 5 elements, it cannot hold a double decker\n",
    "    if len(arr) < 5:\n",
    "        return False\n",
    "    \n",
    "    # A double decker is possible.\n",
    "    \n",
    "    # Start by unpacking the array:\n",
    "    first = arr[0]\n",
    "    second = arr[1]\n",
    "    third = arr[2]\n",
    "    fourth = arr[3]\n",
    "    fifth = arr[4]\n",
    "    \n",
    "    # Then apply the conditions a set of 5 values must satisfy in order to be a double decker.\n",
    "    \n",
    "    # Condition 1: the first element must match the third and fifth elements.\n",
    "    if not ( first == third == fifth ):\n",
    "        return False\n",
    "    \n",
    "    # Condition 2: the second element must match the fourth element.\n",
    "    if not ( second == fourth ):\n",
    "        return False\n",
    "    \n",
    "    # Assumption: 'a' can not equal 'b' in [a, b, a, b, a]. This assumptions leads to...\n",
    "    # Condition 3: the first element cannot equal the second element.\n",
    "    \n",
    "    # Note that at this point, it has been established that first == third == fourth and\n",
    "    # second == fourth.\n",
    "    if first == second:\n",
    "        return False\n",
    "    \n",
    "    # If the function hasn't returned yet, a double decker exists in arr.\n",
    "    return True"
   ]
  },
  {
   "cell_type": "code",
   "execution_count": 29,
   "metadata": {},
   "outputs": [],
   "source": [
    "# No double decker\n",
    "ddTest1 = [1, 2, 1, 2]"
   ]
  },
  {
   "cell_type": "code",
   "execution_count": 30,
   "metadata": {},
   "outputs": [
    {
     "data": {
      "text/plain": [
       "False"
      ]
     },
     "execution_count": 30,
     "metadata": {},
     "output_type": "execute_result"
    }
   ],
   "source": [
    "ddHelper(ddTest1)"
   ]
  },
  {
   "cell_type": "code",
   "execution_count": 31,
   "metadata": {},
   "outputs": [],
   "source": [
    "# Double decker!\n",
    "ddTest2 = [1, 2, 1, 2, 1]"
   ]
  },
  {
   "cell_type": "code",
   "execution_count": 32,
   "metadata": {},
   "outputs": [
    {
     "data": {
      "text/plain": [
       "True"
      ]
     },
     "execution_count": 32,
     "metadata": {},
     "output_type": "execute_result"
    }
   ],
   "source": [
    "ddHelper(ddTest2)"
   ]
  },
  {
   "cell_type": "markdown",
   "metadata": {},
   "source": [
    "I should probably make test cases for all the conditions, but I feel pretty good about this function."
   ]
  },
  {
   "cell_type": "markdown",
   "metadata": {},
   "source": [
    "To handle larger arrays, I'll write a second function:"
   ]
  },
  {
   "cell_type": "code",
   "execution_count": 59,
   "metadata": {},
   "outputs": [],
   "source": [
    "def doubleDecker2(arr):\n",
    "    # Move down the array, testing every 5-element subset to see if it is a double decker.\n",
    "    \n",
    "    # We can stop as soon as it becomes impossible to slice out a 5-element subset.\n",
    "    # e.g. [..., n-4, n-3, n-2, n-1, n] at index n-4, it is no longer possible to form a 5-element\n",
    "    # subset.\n",
    "    finalIndex = len(arr) - 4\n",
    "    \n",
    "    for i in range(finalIndex):\n",
    "        # Slice out the next 5 elements (from i to i+5).\n",
    "        s = arr[i:i+5]\n",
    "        \n",
    "        # Check if the slice is a double decker.\n",
    "        result = ddHelper(s)\n",
    "        \n",
    "        # If it is, the array contains a double decker!\n",
    "        if result:\n",
    "            return True\n",
    "    \n",
    "    \n",
    "    # The function never returned, so the array must not contain a double decker.\n",
    "    return False"
   ]
  },
  {
   "cell_type": "code",
   "execution_count": 60,
   "metadata": {},
   "outputs": [
    {
     "data": {
      "text/plain": [
       "[1, 2, 1, 2, 1, 2, 1, 2, 1]"
      ]
     },
     "execution_count": 60,
     "metadata": {},
     "output_type": "execute_result"
    }
   ],
   "source": [
    "ddTest3 = ddTest1 + ddTest2\n",
    "ddTest3"
   ]
  },
  {
   "cell_type": "code",
   "execution_count": 61,
   "metadata": {},
   "outputs": [
    {
     "data": {
      "text/plain": [
       "True"
      ]
     },
     "execution_count": 61,
     "metadata": {},
     "output_type": "execute_result"
    }
   ],
   "source": [
    "doubleDecker2(ddTest3)"
   ]
  },
  {
   "cell_type": "code",
   "execution_count": 62,
   "metadata": {},
   "outputs": [
    {
     "data": {
      "text/plain": [
       "False"
      ]
     },
     "execution_count": 62,
     "metadata": {},
     "output_type": "execute_result"
    }
   ],
   "source": [
    "doubleDecker2([])"
   ]
  },
  {
   "cell_type": "markdown",
   "metadata": {},
   "source": [
    "Something that may feel a bit weird about this solution is: does it actually test all possible 5-element groupings? I think it does, but I don't feel 100% confident about it."
   ]
  },
  {
   "cell_type": "markdown",
   "metadata": {},
   "source": [
    "This solution also turned out quite long and possibly more complicated than it needed to be. The draft solution was much shorter."
   ]
  },
  {
   "cell_type": "markdown",
   "metadata": {},
   "source": [
    "# Conclusions\n",
    "\n",
    "I should:\n",
    "\n",
    "- grind more HackerRank problems\n",
    "\n",
    "- practice writing code on a white board and explaining my thought process aloud\n",
    "\n",
    "- review algorithms and data structures\n",
    "\n",
    "- write Python more often to forgetting syntax"
   ]
  }
 ],
 "metadata": {
  "kernelspec": {
   "display_name": "Python [default]",
   "language": "python",
   "name": "python3"
  },
  "language_info": {
   "codemirror_mode": {
    "name": "ipython",
    "version": 3
   },
   "file_extension": ".py",
   "mimetype": "text/x-python",
   "name": "python",
   "nbconvert_exporter": "python",
   "pygments_lexer": "ipython3",
   "version": "3.6.2"
  }
 },
 "nbformat": 4,
 "nbformat_minor": 2
}
