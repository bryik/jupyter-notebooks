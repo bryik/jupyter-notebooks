{
 "cells": [
  {
   "cell_type": "markdown",
   "metadata": {},
   "source": [
    "# Forming a Magic Square\n",
    "\n",
    "This is my solution for Hacker Rank's [\"Forming a Magic Square\"](https://www.hackerrank.com/challenges/magic-square-forming/problem) problem."
   ]
  },
  {
   "cell_type": "markdown",
   "metadata": {},
   "source": [
    "# Generating all 3x3 Magic Squares\n",
    "\n",
    "There is [only one 3x3 magic square](https://en.wikipedia.org/wiki/Magic_square#Number_of_magic_squares_of_a_given_order), all others are rotations and reflections."
   ]
  },
  {
   "cell_type": "code",
   "execution_count": 1,
   "metadata": {},
   "outputs": [],
   "source": [
    "m1 = [\n",
    "    [8, 1, 6],\n",
    "    [3, 5, 7],\n",
    "    [4, 9, 2]\n",
    "]"
   ]
  },
  {
   "cell_type": "markdown",
   "metadata": {},
   "source": [
    "Starting with a magic square, 3 different magic squares can be created by reflecting the original square horizontally, vertically, and both vertically and horizontally."
   ]
  },
  {
   "cell_type": "code",
   "execution_count": 2,
   "metadata": {},
   "outputs": [],
   "source": [
    "def reflect_horizontal(square):\n",
    "    '''Returns the reflection of square with respect to the middle row.'''\n",
    "    reflected = [x[:] for x in square]\n",
    "    \n",
    "    reflected[0] = square[2]\n",
    "    reflected[2] = square[0]\n",
    "    \n",
    "    return reflected"
   ]
  },
  {
   "cell_type": "code",
   "execution_count": 3,
   "metadata": {},
   "outputs": [
    {
     "data": {
      "text/plain": [
       "[[4, 9, 2], [3, 5, 7], [8, 1, 6]]"
      ]
     },
     "execution_count": 3,
     "metadata": {},
     "output_type": "execute_result"
    }
   ],
   "source": [
    "m2 = reflect_horizontal(m1)\n",
    "m2"
   ]
  },
  {
   "cell_type": "markdown",
   "metadata": {},
   "source": [
    "To display this better:"
   ]
  },
  {
   "cell_type": "code",
   "execution_count": 4,
   "metadata": {},
   "outputs": [],
   "source": [
    "def s_print(square):\n",
    "    [print(row) for row in square]\n",
    "    print(\"\")"
   ]
  },
  {
   "cell_type": "code",
   "execution_count": 5,
   "metadata": {},
   "outputs": [
    {
     "name": "stdout",
     "output_type": "stream",
     "text": [
      "[4, 9, 2]\n",
      "[3, 5, 7]\n",
      "[8, 1, 6]\n",
      "\n"
     ]
    }
   ],
   "source": [
    "s_print(m2)"
   ]
  },
  {
   "cell_type": "code",
   "execution_count": 6,
   "metadata": {},
   "outputs": [],
   "source": [
    "def reflect_vertical(square):\n",
    "    '''Returns the reflection of square with respect to the middle column.'''\n",
    "    reflected = [x[:] for x in square]\n",
    "    transpose = [r for r in zip(*square)]\n",
    "    \n",
    "    reflected[0] = transpose[2]\n",
    "    reflected[1] = transpose[1]\n",
    "    reflected[2] = transpose[0]\n",
    "    \n",
    "    # Transpose again.\n",
    "    # list(r) just converts the tuples into lists (so squares are consistently displayed)\n",
    "    return [list(r) for r in zip(*reflected)]"
   ]
  },
  {
   "cell_type": "code",
   "execution_count": 7,
   "metadata": {},
   "outputs": [
    {
     "name": "stdout",
     "output_type": "stream",
     "text": [
      "[6, 1, 8]\n",
      "[7, 5, 3]\n",
      "[2, 9, 4]\n",
      "\n"
     ]
    }
   ],
   "source": [
    "m3 = reflect_vertical(m1)\n",
    "s_print(m3)"
   ]
  },
  {
   "cell_type": "code",
   "execution_count": 8,
   "metadata": {},
   "outputs": [
    {
     "name": "stdout",
     "output_type": "stream",
     "text": [
      "[2, 9, 4]\n",
      "[7, 5, 3]\n",
      "[6, 1, 8]\n",
      "\n"
     ]
    }
   ],
   "source": [
    "m4 = reflect_vertical(reflect_horizontal(m1))\n",
    "s_print(m4)"
   ]
  },
  {
   "cell_type": "markdown",
   "metadata": {},
   "source": [
    "Four more magic squares can be created by transposing the original square and executing the same operations."
   ]
  },
  {
   "cell_type": "code",
   "execution_count": 9,
   "metadata": {},
   "outputs": [
    {
     "name": "stdout",
     "output_type": "stream",
     "text": [
      "[8, 3, 4]\n",
      "[1, 5, 9]\n",
      "[6, 7, 2]\n",
      "\n"
     ]
    }
   ],
   "source": [
    "# The original, but transposed.\n",
    "m5 = [list(r) for r in zip(*m1)]\n",
    "s_print(m5)"
   ]
  },
  {
   "cell_type": "code",
   "execution_count": 10,
   "metadata": {},
   "outputs": [
    {
     "name": "stdout",
     "output_type": "stream",
     "text": [
      "[6, 7, 2]\n",
      "[1, 5, 9]\n",
      "[8, 3, 4]\n",
      "\n"
     ]
    }
   ],
   "source": [
    "m6 = reflect_horizontal(m5)\n",
    "s_print(m6)"
   ]
  },
  {
   "cell_type": "code",
   "execution_count": 11,
   "metadata": {},
   "outputs": [
    {
     "name": "stdout",
     "output_type": "stream",
     "text": [
      "[4, 3, 8]\n",
      "[9, 5, 1]\n",
      "[2, 7, 6]\n",
      "\n"
     ]
    }
   ],
   "source": [
    "m7 = reflect_vertical(m5)\n",
    "s_print(m7)"
   ]
  },
  {
   "cell_type": "code",
   "execution_count": 12,
   "metadata": {},
   "outputs": [
    {
     "name": "stdout",
     "output_type": "stream",
     "text": [
      "[2, 7, 6]\n",
      "[9, 5, 1]\n",
      "[4, 3, 8]\n",
      "\n"
     ]
    }
   ],
   "source": [
    "m8 = reflect_vertical(reflect_horizontal(m5))\n",
    "s_print(m8)"
   ]
  },
  {
   "cell_type": "markdown",
   "metadata": {},
   "source": [
    "All of this can be rolled up into a function and the magic squares stored as a constant."
   ]
  },
  {
   "cell_type": "code",
   "execution_count": 13,
   "metadata": {},
   "outputs": [],
   "source": [
    "def generate_magic():\n",
    "    '''Returns a list of all 3x3 magical squares.'''\n",
    "    m1 = [\n",
    "        [8, 1, 6],\n",
    "        [3, 5, 7],\n",
    "        [4, 9, 2]\n",
    "    ]\n",
    "    magic_squares = [m1]\n",
    "    \n",
    "    magic_squares.append(reflect_horizontal(m1))\n",
    "    magic_squares.append(reflect_vertical(m1))\n",
    "    magic_squares.append(reflect_vertical(reflect_horizontal(m1)))\n",
    "    \n",
    "    m1_transpose = [list(r) for r in zip(*m1)]\n",
    "    magic_squares.append(m1_transpose)\n",
    "    \n",
    "    magic_squares.append(reflect_horizontal(m1_transpose))\n",
    "    magic_squares.append(reflect_vertical(m1_transpose))\n",
    "    magic_squares.append(reflect_vertical(reflect_horizontal(m1_transpose)))\n",
    "    \n",
    "    return magic_squares"
   ]
  },
  {
   "cell_type": "code",
   "execution_count": 14,
   "metadata": {},
   "outputs": [],
   "source": [
    "MAGIC_SQUARES = generate_magic()"
   ]
  },
  {
   "cell_type": "markdown",
   "metadata": {},
   "source": [
    "All magic squares:"
   ]
  },
  {
   "cell_type": "code",
   "execution_count": 15,
   "metadata": {},
   "outputs": [
    {
     "name": "stdout",
     "output_type": "stream",
     "text": [
      "[8, 1, 6]\n",
      "[3, 5, 7]\n",
      "[4, 9, 2]\n",
      "\n",
      "[4, 9, 2]\n",
      "[3, 5, 7]\n",
      "[8, 1, 6]\n",
      "\n",
      "[6, 1, 8]\n",
      "[7, 5, 3]\n",
      "[2, 9, 4]\n",
      "\n",
      "[2, 9, 4]\n",
      "[7, 5, 3]\n",
      "[6, 1, 8]\n",
      "\n",
      "[8, 3, 4]\n",
      "[1, 5, 9]\n",
      "[6, 7, 2]\n",
      "\n",
      "[6, 7, 2]\n",
      "[1, 5, 9]\n",
      "[8, 3, 4]\n",
      "\n",
      "[4, 3, 8]\n",
      "[9, 5, 1]\n",
      "[2, 7, 6]\n",
      "\n",
      "[2, 7, 6]\n",
      "[9, 5, 1]\n",
      "[4, 3, 8]\n",
      "\n"
     ]
    },
    {
     "data": {
      "text/plain": [
       "[None, None, None, None, None, None, None, None]"
      ]
     },
     "execution_count": 15,
     "metadata": {},
     "output_type": "execute_result"
    }
   ],
   "source": [
    "[s_print(square) for square in MAGIC_SQUARES]"
   ]
  },
  {
   "cell_type": "markdown",
   "metadata": {},
   "source": [
    "# Finding the Closest Magic Square\n",
    "\n",
    "Given a 3x3 square, find the \"closest\" magical square. The closest magical square has the smallest total distance. Distance is the sum of the absolute differences between corresponding elements in each square. The distance between two elements, $a$ in square 1, $b$ in square 2, is $|a - b|$."
   ]
  },
  {
   "cell_type": "markdown",
   "metadata": {},
   "source": [
    "## Distance Between Two Rows"
   ]
  },
  {
   "cell_type": "code",
   "execution_count": 16,
   "metadata": {},
   "outputs": [],
   "source": [
    "# Helper for comparing two rows.\n",
    "def row_distance(row1, row2):\n",
    "    '''Returns the distance between two rows. The distance is the sum of absolute differences \n",
    "    between elements in row1 and row2.\n",
    "    e.g. ([5, 3, 4], [2, 7, 6]) -> 3 + 4 + 2 = 9'''\n",
    "    distance = 0\n",
    "    for n in range(3):\n",
    "        el1 = row1[n]\n",
    "        el2 = row2[n]\n",
    "        \n",
    "        distance += abs(el1 - el2)\n",
    "    \n",
    "    return distance"
   ]
  },
  {
   "cell_type": "code",
   "execution_count": 17,
   "metadata": {},
   "outputs": [
    {
     "data": {
      "text/plain": [
       "9"
      ]
     },
     "execution_count": 17,
     "metadata": {},
     "output_type": "execute_result"
    }
   ],
   "source": [
    "row_distance([5, 3, 4], [2, 7, 6])"
   ]
  },
  {
   "cell_type": "markdown",
   "metadata": {},
   "source": [
    "## Distance Between Two Squares"
   ]
  },
  {
   "cell_type": "code",
   "execution_count": 18,
   "metadata": {},
   "outputs": [],
   "source": [
    "# A non-magical square\n",
    "test1 = [\n",
    "    [5, 3, 4],\n",
    "    [1, 5, 8],\n",
    "    [6, 4, 2]\n",
    "]"
   ]
  },
  {
   "cell_type": "code",
   "execution_count": 19,
   "metadata": {},
   "outputs": [
    {
     "name": "stdout",
     "output_type": "stream",
     "text": [
      "[8, 1, 6]\n",
      "[3, 5, 7]\n",
      "[4, 9, 2]\n",
      "\n"
     ]
    }
   ],
   "source": [
    "# A magical square\n",
    "s_print(MAGIC_SQUARES[0])"
   ]
  },
  {
   "cell_type": "code",
   "execution_count": 20,
   "metadata": {},
   "outputs": [],
   "source": [
    "def square_distance(square1, square2):\n",
    "    '''Returns the distance between two squares. The distance is the sum of the distances between\n",
    "    rows.'''\n",
    "    distance = 0\n",
    "    for i, row1 in enumerate(square1):\n",
    "        row2 = square2[i]\n",
    "        distance += row_distance(row1, row2)\n",
    "    \n",
    "    return distance"
   ]
  },
  {
   "cell_type": "code",
   "execution_count": 21,
   "metadata": {},
   "outputs": [
    {
     "data": {
      "text/plain": [
       "17"
      ]
     },
     "execution_count": 21,
     "metadata": {},
     "output_type": "execute_result"
    }
   ],
   "source": [
    "# Distance between test1 and the first magic square\n",
    "square_distance(test1, MAGIC_SQUARES[0])"
   ]
  },
  {
   "cell_type": "markdown",
   "metadata": {},
   "source": [
    "## The Closest Magical Square\n",
    "\n",
    "Compare the input square to all possible magical squares to find the closest."
   ]
  },
  {
   "cell_type": "code",
   "execution_count": 22,
   "metadata": {},
   "outputs": [],
   "source": [
    "def closest_square(square):\n",
    "    closest = MAGIC_SQUARES[0]\n",
    "    min_distance = square_distance(square, closest)\n",
    "    \n",
    "    for magic_square in MAGIC_SQUARES[1:]:\n",
    "        tmp_distance = square_distance(square, magic_square)\n",
    "        if tmp_distance < min_distance:\n",
    "            closest = magic_square\n",
    "            min_distance = tmp_distance\n",
    "    \n",
    "    return closest"
   ]
  },
  {
   "cell_type": "code",
   "execution_count": 23,
   "metadata": {},
   "outputs": [
    {
     "name": "stdout",
     "output_type": "stream",
     "text": [
      "[8, 3, 4]\n",
      "[1, 5, 9]\n",
      "[6, 7, 2]\n",
      "\n"
     ]
    }
   ],
   "source": [
    "# The closest magical square to the test1 square.\n",
    "s_print(closest_square(test1))"
   ]
  },
  {
   "cell_type": "markdown",
   "metadata": {},
   "source": [
    "# Computing the Cost\n",
    "\n",
    "The HackerRank problem wants the cost not the closest square. As it happens, the cost of transforming a square into a magical square is equal to the distance between the square and its closest magical partner. Therefore, a slight modification to `closest_square()` is all that is needed."
   ]
  },
  {
   "cell_type": "code",
   "execution_count": 24,
   "metadata": {},
   "outputs": [],
   "source": [
    "def transformation_cost(partial_square):\n",
    "    '''Returns the minimum cost for transforming a square into a magical square.'''\n",
    "    closest = MAGIC_SQUARES[0]\n",
    "    min_distance = square_distance(partial_square, closest)\n",
    "    \n",
    "    for magic_square in MAGIC_SQUARES[1:]:\n",
    "        tmp_distance = square_distance(partial_square, magic_square)\n",
    "        if tmp_distance < min_distance:\n",
    "            closest = magic_square\n",
    "            min_distance = tmp_distance\n",
    "    \n",
    "    return min_distance"
   ]
  },
  {
   "cell_type": "code",
   "execution_count": 25,
   "metadata": {},
   "outputs": [
    {
     "data": {
      "text/plain": [
       "7"
      ]
     },
     "execution_count": 25,
     "metadata": {},
     "output_type": "execute_result"
    }
   ],
   "source": [
    "transformation_cost(test1)"
   ]
  },
  {
   "cell_type": "markdown",
   "metadata": {},
   "source": [
    "# Testing\n",
    "\n",
    "Based on the examples given by HackerRank."
   ]
  },
  {
   "cell_type": "code",
   "execution_count": 26,
   "metadata": {},
   "outputs": [],
   "source": [
    "test2 = [\n",
    "    [4, 9, 2],\n",
    "    [3, 5, 7],\n",
    "    [8, 1, 5]\n",
    "]"
   ]
  },
  {
   "cell_type": "code",
   "execution_count": 27,
   "metadata": {},
   "outputs": [
    {
     "data": {
      "text/plain": [
       "1"
      ]
     },
     "execution_count": 27,
     "metadata": {},
     "output_type": "execute_result"
    }
   ],
   "source": [
    "# >> 1\n",
    "transformation_cost(test2)"
   ]
  },
  {
   "cell_type": "code",
   "execution_count": 28,
   "metadata": {},
   "outputs": [],
   "source": [
    "test3 = [\n",
    "    [4, 8, 2],\n",
    "    [4, 5, 7],\n",
    "    [6, 1, 6]\n",
    "]"
   ]
  },
  {
   "cell_type": "code",
   "execution_count": 29,
   "metadata": {},
   "outputs": [
    {
     "data": {
      "text/plain": [
       "4"
      ]
     },
     "execution_count": 29,
     "metadata": {},
     "output_type": "execute_result"
    }
   ],
   "source": [
    "# >> 4\n",
    "transformation_cost(test3)"
   ]
  },
  {
   "cell_type": "code",
   "execution_count": 30,
   "metadata": {},
   "outputs": [],
   "source": [
    "test4 = [\n",
    "    [4, 4, 7],\n",
    "    [3, 1, 5],\n",
    "    [1, 7, 9]\n",
    "]"
   ]
  },
  {
   "cell_type": "code",
   "execution_count": 31,
   "metadata": {
    "scrolled": true
   },
   "outputs": [
    {
     "data": {
      "text/plain": [
       "20"
      ]
     },
     "execution_count": 31,
     "metadata": {},
     "output_type": "execute_result"
    }
   ],
   "source": [
    "# >> 20\n",
    "transformation_cost(test4)"
   ]
  },
  {
   "cell_type": "markdown",
   "metadata": {},
   "source": [
    "# All Together Now\n",
    "\n",
    "The following script is what I actually submitted. The only major difference is that `transformation_cost()` is called `formingMagicSquare()`."
   ]
  },
  {
   "cell_type": "code",
   "execution_count": 32,
   "metadata": {},
   "outputs": [],
   "source": [
    "def reflect_horizontal(square):\n",
    "    '''Returns the reflection of square with respect to the middle row.'''\n",
    "    reflected = [x[:] for x in square]\n",
    "    \n",
    "    reflected[0] = square[2]\n",
    "    reflected[2] = square[0]\n",
    "    \n",
    "    return reflected\n",
    "\n",
    "\n",
    "def reflect_vertical(square):\n",
    "    '''Returns the reflection of square with respect to the middle column.'''\n",
    "    reflected = [x[:] for x in square]\n",
    "    transpose = [r for r in zip(*square)]\n",
    "    \n",
    "    reflected[0] = transpose[2]\n",
    "    reflected[1] = transpose[1]\n",
    "    reflected[2] = transpose[0]\n",
    "    \n",
    "    # Transpose again.\n",
    "    # list(r) just converts the tuples into lists (so squares are consistently displayed)\n",
    "    return [list(r) for r in zip(*reflected)]\n",
    "\n",
    "\n",
    "def generate_magic():\n",
    "    '''Returns a list of all 3x3 magical squares.'''\n",
    "    m1 = [\n",
    "        [8, 1, 6],\n",
    "        [3, 5, 7],\n",
    "        [4, 9, 2]\n",
    "    ]\n",
    "    magic_squares = [m1]\n",
    "    \n",
    "    magic_squares.append(reflect_horizontal(m1))\n",
    "    magic_squares.append(reflect_vertical(m1))\n",
    "    magic_squares.append(reflect_vertical(reflect_horizontal(m1)))\n",
    "    \n",
    "    m1_transpose = [list(r) for r in zip(*m1)]\n",
    "    magic_squares.append(m1_transpose)\n",
    "    \n",
    "    magic_squares.append(reflect_horizontal(m1_transpose))\n",
    "    magic_squares.append(reflect_vertical(m1_transpose))\n",
    "    magic_squares.append(reflect_vertical(reflect_horizontal(m1_transpose)))\n",
    "    \n",
    "    return magic_squares\n",
    "\n",
    "\n",
    "MAGIC_SQUARES = generate_magic()\n",
    "\n",
    "\n",
    "# Helper for comparing two rows.\n",
    "def row_distance(row1, row2):\n",
    "    '''Returns the distance between two rows. The distance is the sum of absolute differences \n",
    "    between elements in row1 and row2.\n",
    "    e.g. ([5, 3, 4], [2, 7, 6]) -> 3 + 4 + 2 = 9'''\n",
    "    distance = 0\n",
    "    for n in range(3):\n",
    "        el1 = row1[n]\n",
    "        el2 = row2[n]\n",
    "        \n",
    "        distance += abs(el1 - el2)\n",
    "    \n",
    "    return distance\n",
    "\n",
    "\n",
    "def square_distance(square1, square2):\n",
    "    '''Returns the distance between two squares. The distance is the sum of the distances between\n",
    "    rows.'''\n",
    "    distance = 0\n",
    "    for i, row1 in enumerate(square1):\n",
    "        row2 = square2[i]\n",
    "        distance += row_distance(row1, row2)\n",
    "    \n",
    "    return distance\n",
    "\n",
    "\n",
    "def formingMagicSquare(partial_square):\n",
    "    '''Returns the minimum cost for transforming a square into a magical square.'''\n",
    "    closest = MAGIC_SQUARES[0]\n",
    "    min_distance = square_distance(partial_square, closest)\n",
    "    \n",
    "    for magic_square in MAGIC_SQUARES[1:]:\n",
    "        tmp_distance = square_distance(partial_square, magic_square)\n",
    "        if tmp_distance < min_distance:\n",
    "            closest = magic_square\n",
    "            min_distance = tmp_distance\n",
    "    \n",
    "    return min_distance"
   ]
  },
  {
   "attachments": {
    "hacker_rank.png": {
     "image/png": "[encoded data removed]"
    }
   },
   "cell_type": "markdown",
   "metadata": {},
   "source": [
    "## It worked!\n",
    "\n",
    "<img src=\"attachment:hacker_rank.png\" width=\"600px\">"
   ]
  }
 ],
 "metadata": {
  "kernelspec": {
   "display_name": "Python [default]",
   "language": "python",
   "name": "python3"
  },
  "language_info": {
   "codemirror_mode": {
    "name": "ipython",
    "version": 3
   },
   "file_extension": ".py",
   "mimetype": "text/x-python",
   "name": "python",
   "nbconvert_exporter": "python",
   "pygments_lexer": "ipython3",
   "version": "3.6.2"
  }
 },
 "nbformat": 4,
 "nbformat_minor": 2
}
